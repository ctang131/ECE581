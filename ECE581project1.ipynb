{
 "cells": [
  {
   "cell_type": "code",
   "execution_count": 4,
   "metadata": {},
   "outputs": [],
   "source": [
    "import pandas as pd\n",
    "import numpy as np\n",
    "import matplotlib.pyplot as plt"
   ]
  },
  {
   "cell_type": "code",
   "execution_count": 12,
   "metadata": {},
   "outputs": [
    {
     "name": "stdout",
     "output_type": "stream",
     "text": [
      "answer=\n",
      "[3.4482758620689653, 3.1595576619273302, 3.1352876626430475, 3.146138115463269]\n",
      "\n"
     ]
    },
    {
     "data": {
      "text/plain": [
       "[<matplotlib.lines.Line2D at 0x1146a2a90>]"
      ]
     },
     "execution_count": 12,
     "metadata": {},
     "output_type": "execute_result"
    },
    {
     "data": {
      "image/png": "[encoded data removed]",
      "text/plain": [
       "<Figure size 432x288 with 1 Axes>"
      ]
     },
     "metadata": {
      "needs_background": "light"
     },
     "output_type": "display_data"
    }
   ],
   "source": [
    "#1.needle trial\n",
    "# assume that a = 1, l = 1\n",
    "answer1=[]\n",
    "for n in [100,1000,10000,100000]:\n",
    "    count=0\n",
    "    X1=1/2*np.random.random_sample(n) \n",
    "    Y1=np.pi/2*np.random.random_sample(n)\n",
    "    for x,y in zip(X1,Y1):\n",
    "            if x/np.sin(y)<1/2:\n",
    "                count=count+1\n",
    "    answer1.append(2*n/count)\n",
    "print(\"answer=\\n{}\\n\".format(answer1))\n",
    "plt.plot([100,1000,10000,100000],answer1)\n",
    "# calculated answer is 3.1415926(pai)"
   ]
  },
  {
   "cell_type": "code",
   "execution_count": 134,
   "metadata": {},
   "outputs": [
    {
     "data": {
      "text/plain": [
       "[<matplotlib.lines.Line2D at 0x11b7e0d68>]"
      ]
     },
     "execution_count": 134,
     "metadata": {},
     "output_type": "execute_result"
    },
    {
     "data": {
      "image/png": "[encoded data removed]",
      "text/plain": [
       "<Figure size 432x288 with 1 Axes>"
      ]
     },
     "metadata": {
      "needs_background": "light"
     },
     "output_type": "display_data"
    }
   ],
   "source": [
    "#2.birthday\n",
    "count_bir=0\n",
    "n_time=200\n",
    "n_stud=np.arange(1,201,1)\n",
    "count_a=np.linspace(1,200,200)\n",
    "for j in n_stud:\n",
    "    for i in range(n_time):\n",
    "        n_days=365\n",
    "        X_1=np.random.randint(0,366,j)\n",
    "        x_1=pd.DataFrame(X_1,columns=['outcome'])\n",
    "        x_2=x_1['outcome'].value_counts()\n",
    "        aa = np.shape(x_2)\n",
    "        if (aa[0]==j):\n",
    "            count_bir=count_bir+1\n",
    "    count_a[j-1]=count_bir/n_time\n",
    "plt.plot(n_stud,count_a)"
   ]
  },
  {
   "cell_type": "code",
   "execution_count": 13,
   "metadata": {},
   "outputs": [
    {
     "name": "stdout",
     "output_type": "stream",
     "text": [
      "answer is 0.006011111111111111\n"
     ]
    }
   ],
   "source": [
    "#3.kings problem\n",
    "import math\n",
    "N=90000\n",
    "j1=0\n",
    "for n in range(N):\n",
    "    cards3=np.zeros((52,1),dtype=int)\n",
    "    j=0\n",
    "    for i in range(52):\n",
    "        cards3[i]=i\n",
    "    np.random.shuffle(cards3)\n",
    "   # print('{}',format(cards3))\n",
    "    cards3=cards3[:7]\n",
    "    for i in cards3:\n",
    "    #assume that 3 kings are labeled 1,2,3.\n",
    "        if ((i==1)|(i==2)|(i==3)|(i==4)):\n",
    "            j=j+1\n",
    "    if j==3:\n",
    "        j1=j1+1\n",
    "print(\"answer is {}\".format(j1/N))\n",
    "# caltulated answer is Cr(4,3)*Cr(48,4)/Cr(52,7)= 0.0058177"
   ]
  },
  {
   "cell_type": "code",
   "execution_count": 7,
   "metadata": {},
   "outputs": [
    {
     "name": "stdout",
     "output_type": "stream",
     "text": [
      "answer is 0.6922\n"
     ]
    }
   ],
   "source": [
    "#4.area under the graph\n",
    "N=100\n",
    "xarea=np.linspace(0,1,N)\n",
    "yarea=np.linspace(0,1,N)\n",
    "xyinarea=0\n",
    "for x in xarea:\n",
    "    for y in yarea:\n",
    "        if y<1/(x+1):\n",
    "            xyinarea=xyinarea+1\n",
    "print(\"answer is {}\".format(xyinarea/(N*N)))\n",
    "# the value of ln2 is 0.6931471805"
   ]
  },
  {
   "cell_type": "code",
   "execution_count": 8,
   "metadata": {},
   "outputs": [
    {
     "name": "stdout",
     "output_type": "stream",
     "text": [
      "The probability of exactly two heads given that:\n",
      "a.first one is head: 0.4995008983829108 \n",
      "b.first one is tail: 0.24544179523141654 \n",
      "c.first two are heads: 0.49980491611392897 \n",
      "d.first two are tails: 0.0 \n",
      "e.first and third one are heads: 0.48781462245305635\n"
     ]
    }
   ],
   "source": [
    "#5.three coins with two heads\n",
    "N=10000\n",
    "asum,bsum,csum,dsum,esum=0,0,0,0,0\n",
    "first_head=0\n",
    "first_tail=0\n",
    "first_two_head=0\n",
    "first_two_tail=0\n",
    "first_and_third_head=0\n",
    "for n in range(N):\n",
    "    x5=np.random.randint(0,2,3)\n",
    "    j=0\n",
    "    if x5[0]==1:\n",
    "        asum+=1\n",
    "        if x5.sum(axis=0)==2:\n",
    "            first_head+=1\n",
    "    if x5[0]==0:\n",
    "        bsum+=1\n",
    "        if x5.sum(axis=0)==2:\n",
    "            first_tail+=1\n",
    "    if (x5[0]==1)&(x5[1]==1):\n",
    "        csum+=1\n",
    "        if x5.sum(axis=0)==2:\n",
    "            first_two_head+=1\n",
    "    if (x5[0]==0)&(x5[1]==0):\n",
    "        dsum+=1\n",
    "        if x5.sum(axis=0)==2:\n",
    "            first_two_tail+=1\n",
    "    if (x5[0]==1)&(x5[2]==1):\n",
    "        esum+=1\n",
    "        if x5.sum(axis=0)==2:\n",
    "            first_and_third_head+=1\n",
    "print(\"The probability of exactly two heads given that:\\n\"\n",
    "        \"a.first one is head:\",first_head/asum,\"\\nb.first one is tail:\",first_tail/bsum,\n",
    "      \"\\nc.first two are heads:\",first_two_head/csum,\"\\nd.first two are tails:\",first_two_tail/dsum,\n",
    "     \"\\ne.first and third one are heads:\",first_and_third_head/esum)\n",
    "#calculated answer is a:0.5,b:0.25,c:0.5,d:0,e:0.5"
   ]
  },
  {
   "cell_type": "code",
   "execution_count": 9,
   "metadata": {},
   "outputs": [
    {
     "name": "stdout",
     "output_type": "stream",
     "text": [
      "0.5268\n"
     ]
    }
   ],
   "source": [
    "#6.balls\n",
    "N=10000\n",
    "count6=0\n",
    "for n in range(N):\n",
    "    balls6=np.zeros((6,1),dtype=int)\n",
    "    for i in range(4):\n",
    "        balls6[i]=1\n",
    "    np.random.shuffle(balls6)\n",
    "    if balls6[0]+balls6[1]==1:\n",
    "        count6+=1\n",
    "print('{}'.format(count6/N))\n",
    "#calculated answer is Cr(4,1)*Cr(2,1)/C(6,2)=8/15=0.53333333"
   ]
  },
  {
   "cell_type": "code",
   "execution_count": 10,
   "metadata": {},
   "outputs": [
    {
     "name": "stdout",
     "output_type": "stream",
     "text": [
      "Stirling's approximation is  2.6451709592296426e+32 \n",
      "True value is  265252859812191058636308480000000\n"
     ]
    }
   ],
   "source": [
    "#7.N!\n",
    "import math\n",
    "N=30\n",
    "N1=math.sqrt(2*np.pi)*pow(N,N+1/2)*math.exp(-N)\n",
    "print(\"Stirling's approximation is \",N1,\"\\nTrue value is \",math.factorial(N))"
   ]
  },
  {
   "cell_type": "code",
   "execution_count": 11,
   "metadata": {},
   "outputs": [
    {
     "name": "stdout",
     "output_type": "stream",
     "text": [
      "       bio     hyper\n",
      "k=95   0.0  0.169616\n",
      "k=96   0.0  0.133302\n",
      "k=97   0.0  0.081394\n",
      "k=98   0.0  0.036215\n",
      "k=99   0.0  0.010441\n",
      "k=100  0.0  0.001463\n"
     ]
    }
   ],
   "source": [
    "#8.binomial and hypergeometric distribution\n",
    "#p1=N!/(N-k!*k!)*p^x*(1-p)^(n-x)\n",
    "#p2=N!/((N-k)!*k!)*(M/N))^k*(1-M/N)^(N-k)\n",
    "import math\n",
    "def nCr(N,k):\n",
    "    p22=0\n",
    "    for i in range(N-k+1,N+1):\n",
    "        p22+=math.log(i,math.e)\n",
    "    for j in range(1,k+1):\n",
    "        p22-=math.log(j,math.e) \n",
    "    return math.exp(p22)\n",
    "hyper=[]\n",
    "bio=[]\n",
    "for k in range(95,101):\n",
    "    N=1000\n",
    "    M=100\n",
    "    p=0.94\n",
    "    N1=940\n",
    "    p1=nCr(N,k)*pow(p,k)*pow(1-p,N-k)\n",
    "    p2=nCr(N1,k)*nCr(N-N1,M-k)/nCr(N,M)\n",
    "    hyper.append(p2)\n",
    "    bio.append(p1)\n",
    "hyper=np.transpose(hyper).reshape(6,1)\n",
    "bio=np.transpose(bio).reshape(6,1)\n",
    "df=pd.DataFrame(bio,columns=['bio'],index=['k=95','k=96','k=97','k=98','k=99','k=100'])\n",
    "df['hyper']=hyper\n",
    "print('{}'.format(df))"
   ]
  },
  {
   "cell_type": "code",
   "execution_count": 12,
   "metadata": {},
   "outputs": [
    {
     "name": "stdout",
     "output_type": "stream",
     "text": [
      "answer for X>=4 is  0.42187499999999994 \n",
      "[1-p(1)-p(2)-p(3)] is  0.421875\n"
     ]
    }
   ],
   "source": [
    "#9.geomatric distribution\n",
    "def p9(x,p):\n",
    "    return math.pow(1-p,x-1)*p\n",
    "p=0.25\n",
    "N=10000\n",
    "answer9=0\n",
    "for i in range(4,N):\n",
    "    answer9+=p9(i,p)\n",
    "print('answer for X>=4 is ',answer9,\n",
    "      \"\\n[1-p(1)-p(2)-p(3)] is \",1-p9(1,p)-p9(2,p)-p9(3,p))\n"
   ]
  },
  {
   "cell_type": "code",
   "execution_count": 135,
   "metadata": {},
   "outputs": [
    {
     "name": "stdout",
     "output_type": "stream",
     "text": [
      "             poris          bino      diff%\n",
      "k=1   3.678794e-01  3.697296e-01  -0.502936\n",
      "k=2   1.839397e-01  1.848648e-01  -0.502936\n",
      "k=3   6.131324e-02  6.099917e-02   0.512246\n",
      "k=4   1.532831e-02  1.494171e-02   2.522099\n",
      "k=5   3.065662e-03  2.897787e-03   5.475975\n",
      "k=6   5.109437e-04  4.634508e-04   9.295128\n",
      "k=7   7.299195e-05  6.286346e-05  13.876182\n",
      "k=8   9.123994e-06  7.381694e-06  19.095807\n",
      "k=9   1.013777e-06  7.621951e-07  24.816306\n",
      "k=10  1.013777e-07  7.006036e-08  30.891756 \n",
      "\n",
      "So we can use bin(100,0.01) to approximate Poxis(1) \n"
     ]
    },
    {
     "data": {
      "image/png": "[encoded data removed]",
      "text/plain": [
       "<Figure size 432x288 with 1 Axes>"
      ]
     },
     "metadata": {
      "needs_background": "light"
     },
     "output_type": "display_data"
    }
   ],
   "source": [
    "#10.generalization\n",
    "poris=[]\n",
    "bino=[]\n",
    "N=100\n",
    "for k in range(1,11):\n",
    "    a10=1/math.e/math.factorial(k)\n",
    "    b10=nCr(N,k)*math.pow(0.01,k)*math.pow(0.99,N-k)\n",
    "    poris.append(a10)\n",
    "    bino.append(b10)\n",
    "k=np.linspace(1,10,10)\n",
    "poris=np.transpose(poris).reshape(10,1)\n",
    "bino=np.transpose(bino).reshape(10,1)\n",
    "df=pd.DataFrame(poris,columns=['poris'],index=['k=1','k=2','k=3','k=4','k=5','k=6',\n",
    "                                              'k=7','k=8','k=9','k=10'])\n",
    "df['bino']=bino\n",
    "df['diff%']=(poris-bino)/poris*100\n",
    "plt.plot(k,poris,bino)\n",
    "print('{}'.format(df),'\\n\\nSo we can use bin(100,0.01) to approximate Poxis(1) ')"
   ]
  },
  {
   "cell_type": "code",
   "execution_count": 28,
   "metadata": {},
   "outputs": [
    {
     "name": "stdout",
     "output_type": "stream",
     "text": [
      "P(X>u+σ)= 0.0015 \n",
      "P(X>u+2σ)= 0.0004 \n",
      "P(X>u+3σ)= 0.0001\n"
     ]
    }
   ],
   "source": [
    "#11.normal distribution\n",
    "# assume u=1, sigma=0.1\n",
    "u=1\n",
    "σ=0.1\n",
    "sample_n=10000\n",
    "count1=count2=count3=1\n",
    "s11=np.random.normal(u,sigma,100)\n",
    "for i in s11:\n",
    "    if i>u+σ:\n",
    "        count1+=1\n",
    "    if i>u+2*σ:\n",
    "        count2+=1\n",
    "    if i>u+3*σ:\n",
    "        count3+=1\n",
    "print('P(X>u+σ)=',count1/sample_n,'\\nP(X>u+2σ)=',count2/sample_n,\n",
    "     '\\nP(X>u+3σ)=',count3/sample_n)"
   ]
  },
  {
   "cell_type": "code",
   "execution_count": 20,
   "metadata": {},
   "outputs": [
    {
     "name": "stdout",
     "output_type": "stream",
     "text": [
      "Expectation of geomectric distribution: 3.999999999966646 \n",
      "Varience of geomectric distribution: 11.999999996794088\n",
      "Expectation of exponential distribution: 3.9991979952169747 \n",
      "Varience of exponential distribution: 27.99440249448325\n"
     ]
    }
   ],
   "source": [
    "#12.varification\n",
    "import math\n",
    "# for geo: assume p=0.25, so the expectation is 4, and varience is 12\n",
    "p=0.25\n",
    "N=100\n",
    "k=np.arange(1,N+1,1)\n",
    "E_geo=V_geo=0\n",
    "geo=np.arange(1,N+1,1.0)\n",
    "for i in k-1:    \n",
    "    geo[i]=math.pow(1-p,i)*p\n",
    "    \n",
    "for i in range(1,N+1):\n",
    "    E_geo+=geo[i-1]*i\n",
    "    V_geo+=geo[i-1]*i*i\n",
    "\n",
    "print('Expectation of geomectric distribution:',E_geo,\n",
    "      '\\nVarience of geomectric distribution:',V_geo-math.pow(E_geo,2),\n",
    "     )\n",
    "\n",
    " #for exp: assume numda=0.25, so the expectation is 4, and varience is 16\n",
    "v12=0.25\n",
    "right=100\n",
    "N2=10000\n",
    "E_exp=0\n",
    "V_exp=0\n",
    "# calculate the integral of x^2f(x) as E(X^2)\n",
    "k1=w121=np.linspace(0,right,N2)\n",
    "for i in range(1,N2+1):\n",
    "    w121[i-1]=v12*math.exp(-v12*k1[i-1])*k1[i-1]*k1[i-1]\n",
    "\n",
    "for i in range(1,N2+1):\n",
    "    V_exp+=(right-0)/(N2+1)*w121[i-1]\n",
    "# calculate the integral of xf(x) as E(X)\n",
    "k2=ea=np.linspace(0,right,N2)\n",
    "for i in range(1,N2+1):\n",
    "    ea[i-1]=v12*math.exp(-v12*k2[i-1])*k2[i-1]\n",
    "for i in range(1,N2+1):\n",
    "    E_exp+=(right-0)/(N2+1)*ea[i-1]\n",
    "# caculus the varience by using E(X^2)-(E(X))^2\n",
    "print('Expectation of exponential distribution:',E_exp,\n",
    "      '\\nVarience of exponential distribution:',V_exp-E_exp,\n",
    "     )"
   ]
  },
  {
   "cell_type": "code",
   "execution_count": null,
   "metadata": {},
   "outputs": [],
   "source": []
  }
 ],
 "metadata": {
  "kernelspec": {
   "display_name": "Python 3",
   "language": "python",
   "name": "python3"
  },
  "language_info": {
   "codemirror_mode": {
    "name": "ipython",
    "version": 3
   },
   "file_extension": ".py",
   "mimetype": "text/x-python",
   "name": "python",
   "nbconvert_exporter": "python",
   "pygments_lexer": "ipython3",
   "version": "3.7.3"
  }
 },
 "nbformat": 4,
 "nbformat_minor": 2
}
